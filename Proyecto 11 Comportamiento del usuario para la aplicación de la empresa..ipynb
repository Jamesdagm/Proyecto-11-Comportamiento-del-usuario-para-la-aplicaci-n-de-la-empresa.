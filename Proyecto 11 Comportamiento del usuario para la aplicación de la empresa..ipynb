{
 "cells": [
  {
   "cell_type": "markdown",
   "metadata": {},
   "source": [
    "# ¡Hola, James!  \n",
    "\n",
    "Mi nombre es Carlos Ortiz, soy code reviewer de TripleTen y voy a revisar el proyecto que acabas de desarrollar.\n",
    "\n",
    "Cuando vea un error la primera vez, lo señalaré. Deberás encontrarlo y arreglarlo. La intención es que te prepares para un espacio real de trabajo. En un trabajo, el líder de tu equipo hará lo mismo. Si no puedes solucionar el error, te daré más información en la próxima ocasión. \n",
    "\n",
    "Encontrarás mis comentarios más abajo - **por favor, no los muevas, no los modifiques ni los borres**.\n",
    "\n",
    "¿Cómo lo voy a hacer? Voy a leer detenidamente cada una de las implementaciones que has llevado a cabo para cumplir con lo solicitado. Verás los comentarios de esta forma:\n",
    "\n",
    "<div class=\"alert alert-block alert-success\">\n",
    "<b>Comentario del revisor</b> <a class=\"tocSkip\"></a>\n",
    "    \n",
    "Si todo está perfecto.\n",
    "</div>\n",
    "\n",
    "\n",
    "<div class=\"alert alert-block alert-warning\">\n",
    "<b>Comentario del revisor</b> <a class=\"tocSkip\"></a>\n",
    "    \n",
    "Si tu código está bien pero se puede mejorar o hay algún detalle que le hace falta.\n",
    "</div>\n",
    "\n",
    "\n",
    "<div class=\"alert alert-block alert-danger\">\n",
    "    \n",
    "<b>Comentario del revisor</b> <a class=\"tocSkip\"></a>\n",
    "    \n",
    "    \n",
    "Si de pronto hace falta algo o existe algún problema con tu código o conclusiones.\n",
    "</div>\n",
    "\n",
    "\n",
    "Puedes responderme de esta forma: \n",
    "\n",
    "\n",
    "<div class=\"alert alert-block alert-info\">\n",
    "<b>Respuesta del estudiante</b> <a class=\"tocSkip\"></a>\n",
    "</div>\n",
    "¡Empecemos!"
   ]
  },
  {
   "cell_type": "markdown",
   "metadata": {},
   "source": [
    "# Proyecto: investigación del comportamiento del usuario para empresa emergente de productos alimenticios."
   ]
  },
  {
   "cell_type": "markdown",
   "metadata": {},
   "source": [
    "# Introducción\n",
    "\n",
    " En este proyecto, nos embarcaremos en un análisis exhaustivo del embudo de ventas y llevaremos a cabo un experimento A/A/B para evaluar el impacto de posibles cambios en el diseño de la aplicación en el comportamiento del usuario.\n",
    "\n",
    "Exploraremos el embudo de ventas para identificar las etapas donde los usuarios podrían enfrentar obstáculos y abandonar el proceso de compra. A través de este análisis, esperamos comprender mejor dónde se pierden los usuarios y dónde podemos realizar mejoras para aumentar las conversiones en el futuro."
   ]
  },
  {
   "cell_type": "markdown",
   "metadata": {},
   "source": [
    "## PASO. Descargar  datos."
   ]
  },
  {
   "cell_type": "markdown",
   "metadata": {},
   "source": [
    "### Descarga y optimización de datos.\n",
    "En este paso, nos enfocamos en obtener los datos necesarios para nuestro análisis y prepararlos adecuadamente para su posterior exploración."
   ]
  },
  {
   "cell_type": "markdown",
   "metadata": {},
   "source": [
    "#### Inicialización."
   ]
  },
  {
   "cell_type": "code",
   "execution_count": 1,
   "metadata": {},
   "outputs": [],
   "source": [
    "# Cargar todas las librerías\n",
    "import pandas as pd\n",
    "import matplotlib.pyplot as plt\n",
    "import scipy.stats as stats\n",
    "from datetime import datetime\n",
    "from statsmodels.stats.proportion import proportions_ztest"
   ]
  },
  {
   "cell_type": "markdown",
   "metadata": {},
   "source": [
    "#### Cargar datos."
   ]
  },
  {
   "cell_type": "code",
   "execution_count": 2,
   "metadata": {
    "scrolled": true
   },
   "outputs": [],
   "source": [
    "# Leer el archivo CSV\n",
    "file_path = \"/datasets/logs_exp_us.csv\"\n",
    "user_data = pd.read_csv(file_path, sep=\"\\t\")"
   ]
  },
  {
   "cell_type": "code",
   "execution_count": 3,
   "metadata": {},
   "outputs": [
    {
     "name": "stdout",
     "output_type": "stream",
     "text": [
      "                 EventName         DeviceIDHash  EventTimestamp  ExpId\n",
      "0         MainScreenAppear  4575588528974610257      1564029816    246\n",
      "1         MainScreenAppear  7416695313311560658      1564053102    246\n",
      "2  PaymentScreenSuccessful  3518123091307005509      1564054127    248\n",
      "3         CartScreenAppear  3518123091307005509      1564054127    248\n",
      "4  PaymentScreenSuccessful  6217807653094995999      1564055322    248\n",
      "5         CartScreenAppear  6217807653094995999      1564055323    248\n",
      "6       OffersScreenAppear  8351860793733343758      1564066242    246\n",
      "7         MainScreenAppear  5682100281902512875      1564085677    246\n",
      "8         MainScreenAppear  1850981295691852772      1564086702    247\n",
      "9         MainScreenAppear  5407636962369102641      1564112112    246\n",
      "<class 'pandas.core.frame.DataFrame'>\n",
      "RangeIndex: 244126 entries, 0 to 244125\n",
      "Data columns (total 4 columns):\n",
      " #   Column          Non-Null Count   Dtype \n",
      "---  ------          --------------   ----- \n",
      " 0   EventName       244126 non-null  object\n",
      " 1   DeviceIDHash    244126 non-null  int64 \n",
      " 2   EventTimestamp  244126 non-null  int64 \n",
      " 3   ExpId           244126 non-null  int64 \n",
      "dtypes: int64(3), object(1)\n",
      "memory usage: 7.5+ MB\n",
      "None\n"
     ]
    }
   ],
   "source": [
    "# Mostrar las primeras filas y la información general de los datos\n",
    "print(user_data.head(10))\n",
    "print(user_data.info())"
   ]
  },
  {
   "cell_type": "markdown",
   "metadata": {},
   "source": [
    "## Preparar los datos para el análisis."
   ]
  },
  {
   "cell_type": "markdown",
   "metadata": {},
   "source": [
    "### Procesamiento de datos."
   ]
  },
  {
   "cell_type": "code",
   "execution_count": 4,
   "metadata": {},
   "outputs": [],
   "source": [
    "# Cambiar nombres de columnas\n",
    "user_data.columns = ['nombre_evento', 'id_dispositivo', 'marca_tiempo_evento', 'id_experimento']\n"
   ]
  },
  {
   "cell_type": "code",
   "execution_count": 5,
   "metadata": {},
   "outputs": [
    {
     "name": "stdout",
     "output_type": "stream",
     "text": [
      "<class 'pandas.core.frame.DataFrame'>\n",
      "RangeIndex: 244126 entries, 0 to 244125\n",
      "Data columns (total 4 columns):\n",
      " #   Column               Non-Null Count   Dtype \n",
      "---  ------               --------------   ----- \n",
      " 0   nombre_evento        244126 non-null  object\n",
      " 1   id_dispositivo       244126 non-null  int64 \n",
      " 2   marca_tiempo_evento  244126 non-null  int64 \n",
      " 3   id_experimento       244126 non-null  int64 \n",
      "dtypes: int64(3), object(1)\n",
      "memory usage: 7.5+ MB\n",
      "None\n",
      "nombre_evento          0\n",
      "id_dispositivo         0\n",
      "marca_tiempo_evento    0\n",
      "id_experimento         0\n",
      "dtype: int64\n"
     ]
    }
   ],
   "source": [
    "# Verificar tipos de datos y valores ausentes\n",
    "print(user_data.info())\n",
    "print(user_data.isnull().sum())"
   ]
  },
  {
   "cell_type": "code",
   "execution_count": 6,
   "metadata": {},
   "outputs": [
    {
     "name": "stdout",
     "output_type": "stream",
     "text": [
      "             nombre_evento       id_dispositivo  marca_tiempo_evento  \\\n",
      "0         MainScreenAppear  4575588528974610257           1564029816   \n",
      "1         MainScreenAppear  7416695313311560658           1564053102   \n",
      "2  PaymentScreenSuccessful  3518123091307005509           1564054127   \n",
      "3         CartScreenAppear  3518123091307005509           1564054127   \n",
      "4  PaymentScreenSuccessful  6217807653094995999           1564055322   \n",
      "\n",
      "   id_experimento   fecha_hora_evento fecha_evento hora_evento  \n",
      "0             246 2019-07-25 04:43:36   2019-07-25    04:43:36  \n",
      "1             246 2019-07-25 11:11:42   2019-07-25    11:11:42  \n",
      "2             248 2019-07-25 11:28:47   2019-07-25    11:28:47  \n",
      "3             248 2019-07-25 11:28:47   2019-07-25    11:28:47  \n",
      "4             248 2019-07-25 11:48:42   2019-07-25    11:48:42  \n"
     ]
    }
   ],
   "source": [
    "# Convertir marca de tiempo a formato de fecha y hora\n",
    "user_data['fecha_hora_evento'] = pd.to_datetime(user_data['marca_tiempo_evento'], unit='s')\n",
    "\n",
    "# Agregar columna de fecha\n",
    "user_data['fecha_evento'] = user_data['fecha_hora_evento'].dt.date\n",
    "\n",
    "# Agregar columna de hora\n",
    "user_data['hora_evento'] = user_data['fecha_hora_evento'].dt.time\n",
    "\n",
    "# Mostrar las primeras filas y la información general de los datos\n",
    "print(user_data.head())\n"
   ]
  },
  {
   "cell_type": "markdown",
   "metadata": {},
   "source": [
    "<div class=\"alert alert-block alert-success\">\n",
    "<b>Comentario del revisor</b> <a class=\"tocSkip\"></a>\n",
    "    \n",
    "Has hecho bien con esta conversión de datos.\n",
    "</div>"
   ]
  },
  {
   "cell_type": "markdown",
   "metadata": {},
   "source": [
    "## Estudiar y comprobar los datos."
   ]
  },
  {
   "cell_type": "markdown",
   "metadata": {},
   "source": [
    "### ¿Cuantos eventos hay en los registros?"
   ]
  },
  {
   "cell_type": "code",
   "execution_count": 7,
   "metadata": {},
   "outputs": [
    {
     "name": "stdout",
     "output_type": "stream",
     "text": [
      "Total de eventos en los registros: 244126\n"
     ]
    }
   ],
   "source": [
    "# Contar el número de eventos\n",
    "total_eventos = len(user_data)\n",
    "print(\"Total de eventos en los registros:\", total_eventos)"
   ]
  },
  {
   "cell_type": "markdown",
   "metadata": {},
   "source": [
    "### ¿Cuántos usuarios y usuarias hay en los registros?"
   ]
  },
  {
   "cell_type": "code",
   "execution_count": 8,
   "metadata": {},
   "outputs": [
    {
     "name": "stdout",
     "output_type": "stream",
     "text": [
      "Total de usuarios y usuarias en los registros: 7551\n"
     ]
    }
   ],
   "source": [
    "# Contar el número de usuarios únicos\n",
    "total_usuarios = user_data['id_dispositivo'].nunique()\n",
    "print(\"Total de usuarios y usuarias en los registros:\", total_usuarios)"
   ]
  },
  {
   "cell_type": "markdown",
   "metadata": {},
   "source": [
    "### ¿Cuál es el promedio de eventos por usuario?"
   ]
  },
  {
   "cell_type": "code",
   "execution_count": 9,
   "metadata": {},
   "outputs": [
    {
     "name": "stdout",
     "output_type": "stream",
     "text": [
      "Promedio de eventos por usuario: 32.33028737915508\n"
     ]
    }
   ],
   "source": [
    "# Calcular el promedio de eventos por usuario\n",
    "promedio_eventos_por_usuario = total_eventos / total_usuarios\n",
    "print(\"Promedio de eventos por usuario:\", promedio_eventos_por_usuario)\n"
   ]
  },
  {
   "cell_type": "markdown",
   "metadata": {},
   "source": [
    "### ¿Qué periodo de tiempo cubren los datos?"
   ]
  },
  {
   "cell_type": "code",
   "execution_count": 10,
   "metadata": {},
   "outputs": [
    {
     "name": "stdout",
     "output_type": "stream",
     "text": [
      "Fecha mínima de los datos: 2019-07-25\n",
      "Fecha máxima de los datos: 2019-08-07\n"
     ]
    }
   ],
   "source": [
    "# Encontrar la fecha mínima y máxima\n",
    "fecha_minima = user_data['fecha_evento'].min()\n",
    "fecha_maxima = user_data['fecha_evento'].max()\n",
    "print(\"Fecha mínima de los datos:\", fecha_minima)\n",
    "print(\"Fecha máxima de los datos:\", fecha_maxima)"
   ]
  },
  {
   "cell_type": "code",
   "execution_count": 11,
   "metadata": {},
   "outputs": [
    {
     "data": {
      "image/png": "[encoded data removed]",
      "text/plain": [
       "<Figure size 864x576 with 1 Axes>"
      ]
     },
     "metadata": {
      "needs_background": "light"
     },
     "output_type": "display_data"
    }
   ],
   "source": [
    "# Crear histograma por fecha y hora\n",
    "plt.figure(figsize=(12, 8))\n",
    "plt.hist(user_data['fecha_hora_evento'], bins=50, color='skyblue')\n",
    "plt.xlabel('Fecha y hora del evento')\n",
    "plt.ylabel('Número de eventos')\n",
    "plt.title('Histograma por fecha y hora')\n",
    "plt.xticks(rotation=45)\n",
    "plt.grid(False)\n",
    "plt.show()"
   ]
  },
  {
   "cell_type": "markdown",
   "metadata": {},
   "source": [
    "<div class=\"alert alert-block alert-success\">\n",
    "<b>Comentario del revisor</b> <a class=\"tocSkip\"></a>\n",
    "    \n",
    "Buen trabajo en la exploración de esta información.\n",
    "</div>"
   ]
  },
  {
   "cell_type": "markdown",
   "metadata": {},
   "source": [
    "### ¿Perdiste muchos eventos y usuarios al excluir los datos más antiguos?"
   ]
  },
  {
   "cell_type": "code",
   "execution_count": 12,
   "metadata": {},
   "outputs": [
    {
     "name": "stdout",
     "output_type": "stream",
     "text": [
      "Diferencia en eventos después de ignorar los datos más antiguos: 0\n",
      "Diferencia en usuarios después de ignorar los datos más antiguos: 0\n"
     ]
    }
   ],
   "source": [
    "# Convertir la columna fecha_evento a datetime completo\n",
    "user_data['fecha_hora_evento'] = pd.to_datetime(user_data['fecha_hora_evento'])\n",
    "\n",
    "# Definir la fecha mínima como fecha de inicio completa\n",
    "fecha_inicio_completa = datetime(2019, 7, 25)\n",
    "\n",
    "# Filtrar los datos para incluir solo los eventos después de la fecha de inicio completa\n",
    "datos_completos = user_data[user_data['fecha_hora_evento'] >= fecha_inicio_completa]\n",
    "\n",
    "# Calcula el número total de eventos y usuarios antes y después de esta filtración\n",
    "eventos_anteriores = user_data.shape[0]\n",
    "usuarios_anteriores = user_data['id_dispositivo'].nunique()\n",
    "eventos_después = datos_completos.shape[0]\n",
    "usuarios_después = datos_completos['id_dispositivo'].nunique()\n",
    "\n",
    "# Compara estas cantidades para determinar si se perdió una cantidad significativa de eventos y usuarios al excluir los datos más antiguos\n",
    "diferencia_eventos = eventos_anteriores - eventos_después\n",
    "diferencia_usuarios = usuarios_anteriores - usuarios_después\n",
    "\n",
    "print(\"Diferencia en eventos después de ignorar los datos más antiguos:\", diferencia_eventos)\n",
    "print(\"Diferencia en usuarios después de ignorar los datos más antiguos:\", diferencia_usuarios)\n"
   ]
  },
  {
   "cell_type": "markdown",
   "metadata": {},
   "source": [
    "**Nota: \"La diferencia en eventos y usuarios después de ignorar los datos más antiguos es cero, significa que no se ha perdido ningún evento ni usuario al excluir los datos más antiguos, por lo que no se perdió ninguna información relevante al realizar esta exclusión.\"**"
   ]
  },
  {
   "cell_type": "markdown",
   "metadata": {},
   "source": [
    "### Asegurarse de tener usuarios y usuarias de los tres grupos experimentales."
   ]
  },
  {
   "cell_type": "code",
   "execution_count": 13,
   "metadata": {},
   "outputs": [
    {
     "name": "stdout",
     "output_type": "stream",
     "text": [
      "Usuarios por experimento:\n"
     ]
    },
    {
     "data": {
      "text/plain": [
       "id_experimento\n",
       "246    2489\n",
       "247    2520\n",
       "248    2542\n",
       "Name: id_dispositivo, dtype: int64"
      ]
     },
     "metadata": {},
     "output_type": "display_data"
    }
   ],
   "source": [
    "# Contar el número de usuarios en cada grupo experimental\n",
    "usuarios_por_experimento = user_data.groupby('id_experimento')['id_dispositivo'].nunique()\n",
    "print(\"Usuarios por experimento:\")\n",
    "display(usuarios_por_experimento)\n"
   ]
  },
  {
   "cell_type": "markdown",
   "metadata": {},
   "source": [
    "## Estudiar el embudo de eventos"
   ]
  },
  {
   "cell_type": "markdown",
   "metadata": {},
   "source": [
    "### Observar qué eventos hay en los registros y su frecuencia de suceso. Ordénalos por frecuencia."
   ]
  },
  {
   "cell_type": "code",
   "execution_count": 14,
   "metadata": {},
   "outputs": [
    {
     "name": "stdout",
     "output_type": "stream",
     "text": [
      "Eventos por frecuencia:\n"
     ]
    },
    {
     "data": {
      "text/html": [
       "<div>\n",
       "<style scoped>\n",
       "    .dataframe tbody tr th:only-of-type {\n",
       "        vertical-align: middle;\n",
       "    }\n",
       "\n",
       "    .dataframe tbody tr th {\n",
       "        vertical-align: top;\n",
       "    }\n",
       "\n",
       "    .dataframe thead th {\n",
       "        text-align: right;\n",
       "    }\n",
       "</style>\n",
       "<table border=\"1\" class=\"dataframe\">\n",
       "  <thead>\n",
       "    <tr style=\"text-align: right;\">\n",
       "      <th></th>\n",
       "      <th>nombre_evento</th>\n",
       "      <th>frecuencia</th>\n",
       "    </tr>\n",
       "  </thead>\n",
       "  <tbody>\n",
       "    <tr>\n",
       "      <th>0</th>\n",
       "      <td>MainScreenAppear</td>\n",
       "      <td>119205</td>\n",
       "    </tr>\n",
       "    <tr>\n",
       "      <th>1</th>\n",
       "      <td>OffersScreenAppear</td>\n",
       "      <td>46825</td>\n",
       "    </tr>\n",
       "    <tr>\n",
       "      <th>2</th>\n",
       "      <td>CartScreenAppear</td>\n",
       "      <td>42731</td>\n",
       "    </tr>\n",
       "    <tr>\n",
       "      <th>3</th>\n",
       "      <td>PaymentScreenSuccessful</td>\n",
       "      <td>34313</td>\n",
       "    </tr>\n",
       "    <tr>\n",
       "      <th>4</th>\n",
       "      <td>Tutorial</td>\n",
       "      <td>1052</td>\n",
       "    </tr>\n",
       "  </tbody>\n",
       "</table>\n",
       "</div>"
      ],
      "text/plain": [
       "             nombre_evento  frecuencia\n",
       "0         MainScreenAppear      119205\n",
       "1       OffersScreenAppear       46825\n",
       "2         CartScreenAppear       42731\n",
       "3  PaymentScreenSuccessful       34313\n",
       "4                 Tutorial        1052"
      ]
     },
     "metadata": {},
     "output_type": "display_data"
    }
   ],
   "source": [
    "# Obtener la frecuencia de cada evento\n",
    "frecuencia_eventos = user_data['nombre_evento'].value_counts().reset_index()\n",
    "frecuencia_eventos.columns = ['nombre_evento', 'frecuencia']\n",
    "# Ordenar eventos por frecuencia\n",
    "frecuencia_eventos = frecuencia_eventos.sort_values(by='frecuencia', ascending=False)\n",
    "print(\"Eventos por frecuencia:\")\n",
    "display(frecuencia_eventos)\n"
   ]
  },
  {
   "cell_type": "markdown",
   "metadata": {},
   "source": [
    "### Encontrar la cantidad de usuarios y usuarias que realizaron cada una de estas acciones. Ordenar los eventos por el número de usuarios y usuarias. Calcular la proporción de usuarios y usuarias que realizaron la acción al menos una vez."
   ]
  },
  {
   "cell_type": "code",
   "execution_count": 15,
   "metadata": {},
   "outputs": [
    {
     "name": "stdout",
     "output_type": "stream",
     "text": [
      "Usuarios por evento:\n"
     ]
    },
    {
     "data": {
      "text/html": [
       "<div>\n",
       "<style scoped>\n",
       "    .dataframe tbody tr th:only-of-type {\n",
       "        vertical-align: middle;\n",
       "    }\n",
       "\n",
       "    .dataframe tbody tr th {\n",
       "        vertical-align: top;\n",
       "    }\n",
       "\n",
       "    .dataframe thead th {\n",
       "        text-align: right;\n",
       "    }\n",
       "</style>\n",
       "<table border=\"1\" class=\"dataframe\">\n",
       "  <thead>\n",
       "    <tr style=\"text-align: right;\">\n",
       "      <th></th>\n",
       "      <th>nombre_evento</th>\n",
       "      <th>usuarios</th>\n",
       "      <th>proporcion</th>\n",
       "    </tr>\n",
       "  </thead>\n",
       "  <tbody>\n",
       "    <tr>\n",
       "      <th>1</th>\n",
       "      <td>MainScreenAppear</td>\n",
       "      <td>7439</td>\n",
       "      <td>0.985168</td>\n",
       "    </tr>\n",
       "    <tr>\n",
       "      <th>2</th>\n",
       "      <td>OffersScreenAppear</td>\n",
       "      <td>4613</td>\n",
       "      <td>0.610912</td>\n",
       "    </tr>\n",
       "    <tr>\n",
       "      <th>0</th>\n",
       "      <td>CartScreenAppear</td>\n",
       "      <td>3749</td>\n",
       "      <td>0.496491</td>\n",
       "    </tr>\n",
       "    <tr>\n",
       "      <th>3</th>\n",
       "      <td>PaymentScreenSuccessful</td>\n",
       "      <td>3547</td>\n",
       "      <td>0.469739</td>\n",
       "    </tr>\n",
       "    <tr>\n",
       "      <th>4</th>\n",
       "      <td>Tutorial</td>\n",
       "      <td>847</td>\n",
       "      <td>0.112171</td>\n",
       "    </tr>\n",
       "  </tbody>\n",
       "</table>\n",
       "</div>"
      ],
      "text/plain": [
       "             nombre_evento  usuarios  proporcion\n",
       "1         MainScreenAppear      7439    0.985168\n",
       "2       OffersScreenAppear      4613    0.610912\n",
       "0         CartScreenAppear      3749    0.496491\n",
       "3  PaymentScreenSuccessful      3547    0.469739\n",
       "4                 Tutorial       847    0.112171"
      ]
     },
     "metadata": {},
     "output_type": "display_data"
    }
   ],
   "source": [
    "# Obtener la cantidad de usuarios y usuarias por evento\n",
    "usuarios_por_evento = user_data.groupby('nombre_evento')['id_dispositivo'].nunique().reset_index()\n",
    "usuarios_por_evento.columns = ['nombre_evento', 'usuarios']\n",
    "# Ordenar eventos por cantidad de usuarios y usuarias\n",
    "usuarios_por_evento = usuarios_por_evento.sort_values(by='usuarios', ascending=False)\n",
    "# Calcular proporción de usuarios y usuarias que realizaron cada acción al menos una vez\n",
    "usuarios_por_evento['proporcion'] = usuarios_por_evento['usuarios'] / total_usuarios\n",
    "print(\"Usuarios por evento:\")\n",
    "display(usuarios_por_evento)\n"
   ]
  },
  {
   "cell_type": "markdown",
   "metadata": {},
   "source": [
    "<div class=\"alert alert-block alert-success\">\n",
    "<b>Comentario del revisor</b> <a class=\"tocSkip\"></a>\n",
    "    \n",
    "¡Perfecto! Los datos se comportan como se espera y tenemos información para llevar a cabo las pruebas.\n",
    "</div>"
   ]
  },
  {
   "cell_type": "markdown",
   "metadata": {},
   "source": [
    "### ¿En qué orden crees que ocurrieron las acciones? ¿Todas son parte de una sola secuencia?\n",
    "Basado en la secuencia de eventos y sus frecuencias, así como en el conocimiento de la lógica del producto, podemos inferir un orden probable en el que ocurrieron las acciones. Por ejemplo:\n",
    "\n",
    "- **MainScreenAppear:** Es probable que este sea el primer evento, ya que generalmente indica que un usuario ha abierto la aplicación.\n",
    "- **OffersScreenAppear:** Después de que un usuario ve la pantalla principal, es probable que navegue hacia las ofertas disponibles.\n",
    "- **CartScreenAppear:** Una vez que un usuario ha encontrado una oferta que le interesa, es probable que la agregue al carrito para continuar con el proceso de compra.\n",
    "- **PaymentScreenSuccessful:** Finalmente, luego de agregar productos al carrito, el usuario procedería a la pantalla de pago para completar la transacción.\n",
    "- **Tutorial:** Este evento parece ser una excepción y podría no estar necesariamente en la secuencia principal de eventos, sino más bien una acción opcional que algunos usuarios realizan.\n",
    "\n",
    "\n",
    "**Nota:  mientras que la mayoría de los usuarios pueden seguir una secuencia principal, es importante reconocer que pueden existir ramificaciones o acciones opcionales que algunos usuarios eligen realizar, lo que puede resultar en múltiples secuencias o caminos dentro de la aplicación.**"
   ]
  },
  {
   "cell_type": "markdown",
   "metadata": {},
   "source": [
    "<div class=\"alert alert-block alert-success\">\n",
    "<b>Comentario del revisor</b> <a class=\"tocSkip\"></a>\n",
    "    \n",
    "Buena lectura del funnel.\n",
    "</div>"
   ]
  },
  {
   "cell_type": "markdown",
   "metadata": {},
   "source": [
    "### Utilizar el embudo de eventos para encontrar la proporción de usuarios y usuarias que pasan de una etapa a la siguiente."
   ]
  },
  {
   "cell_type": "code",
   "execution_count": 16,
   "metadata": {},
   "outputs": [
    {
     "name": "stdout",
     "output_type": "stream",
     "text": [
      "Proporciones de conversión entre eventos:\n",
      "MainScreenAppear -> OffersScreenAppear: 0.6201102298696062\n",
      "OffersScreenAppear -> CartScreenAppear: 0.8127032300021678\n",
      "CartScreenAppear -> PaymentScreenSuccessful: 0.9461189650573486\n",
      "PaymentScreenSuccessful -> Tutorial: 0.23879334648999154\n"
     ]
    }
   ],
   "source": [
    "# Crear un diccionario para almacenar las proporciones de conversión entre eventos\n",
    "proporciones_conversion = {}\n",
    "\n",
    "# Calcular la proporción de usuarios que pasan de una etapa a la siguiente\n",
    "for i in range(len(frecuencia_eventos) - 1):\n",
    "    evento_actual = frecuencia_eventos.iloc[i]['nombre_evento']\n",
    "    siguiente_evento = frecuencia_eventos.iloc[i + 1]['nombre_evento']\n",
    "    usuarios_actuales = user_data[user_data['nombre_evento'] == evento_actual]['id_dispositivo'].nunique()\n",
    "    usuarios_siguientes = user_data[user_data['nombre_evento'] == siguiente_evento]['id_dispositivo'].nunique()\n",
    "    proporciones_conversion[evento_actual + ' -> ' + siguiente_evento] = usuarios_siguientes / usuarios_actuales\n",
    "\n",
    "print(\"Proporciones de conversión entre eventos:\")\n",
    "for evento, prop in proporciones_conversion.items():\n",
    "    print(evento + ':', prop)\n"
   ]
  },
  {
   "cell_type": "markdown",
   "metadata": {},
   "source": [
    "###  ¿En qué etapa pierdes más usuarios y usuarias?\n",
    "\n",
    "Observamos que la transición con la proporción más baja es de PaymentScreenSuccessful a Tutorial, con una proporción de 0.2388. Esto significa que solo alrededor del 23.88% de los usuarios que completaron exitosamente el pago proceden a ver el tutorial. Por lo tanto, es en esta transición donde se pierden más usuarios y usuarias en comparación con las demás."
   ]
  },
  {
   "cell_type": "markdown",
   "metadata": {},
   "source": [
    "###  ¿Qué porcentaje de usuarios y usuarias hace todo el viaje desde su primer evento hasta el pago?"
   ]
  },
  {
   "cell_type": "code",
   "execution_count": 17,
   "metadata": {},
   "outputs": [
    {
     "name": "stdout",
     "output_type": "stream",
     "text": [
      "Porcentaje de usuarios y usuarias que completaron todo el viaje desde su primer evento hasta el pago: 45.543636604423256 %\n"
     ]
    }
   ],
   "source": [
    "# Encontrar usuarios que realizaron cada evento en la secuencia deseada\n",
    "usuarios_main = set(user_data[user_data['nombre_evento'] == 'MainScreenAppear']['id_dispositivo'].unique())\n",
    "usuarios_offers = set(user_data[user_data['nombre_evento'] == 'OffersScreenAppear']['id_dispositivo'].unique())\n",
    "usuarios_cart = set(user_data[user_data['nombre_evento'] == 'CartScreenAppear']['id_dispositivo'].unique())\n",
    "usuarios_payment = set(user_data[user_data['nombre_evento'] == 'PaymentScreenSuccessful']['id_dispositivo'].unique())\n",
    "\n",
    "# Encontrar usuarios que completaron todo el viaje\n",
    "usuarios_viaje_completo = usuarios_main & usuarios_offers & usuarios_cart & usuarios_payment\n",
    "\n",
    "# Calcular el porcentaje de usuarios que completaron todo el viaje en relación con el número total de usuarios\n",
    "porcentaje_viaje_completo = len(usuarios_viaje_completo) / total_usuarios * 100\n",
    "\n",
    "print(\"Porcentaje de usuarios y usuarias que completaron todo el viaje desde su primer evento hasta el pago:\", porcentaje_viaje_completo, \"%\")\n"
   ]
  },
  {
   "cell_type": "markdown",
   "metadata": {},
   "source": [
    "**Notas:** Alrededor del 45.54% de los usuarios y usuarias que iniciaron sesión por primera vez en la aplicación lograron completar todo el viaje hasta el pago. Esto proporciona una perspectiva importante sobre el rendimiento de la aplicación y puede ser útil para identificar áreas de mejora en el flujo de usuario o en la experiencia de la aplicación en general."
   ]
  },
  {
   "cell_type": "markdown",
   "metadata": {},
   "source": [
    "<div class=\"alert alert-block alert-success\">\n",
    "<b>Comentario del revisor</b> <a class=\"tocSkip\"></a>\n",
    "    \n",
    "Bien. Estamos listos para estudiar el embudo de eventos.\n",
    "</div>"
   ]
  },
  {
   "cell_type": "markdown",
   "metadata": {},
   "source": [
    "## Estudiar los resultados del experimento"
   ]
  },
  {
   "cell_type": "markdown",
   "metadata": {},
   "source": [
    "###  ¿Cuántos usuarios y usuarias hay en cada grupo?"
   ]
  },
  {
   "cell_type": "code",
   "execution_count": 18,
   "metadata": {},
   "outputs": [
    {
     "name": "stdout",
     "output_type": "stream",
     "text": [
      "Usuarios y usuarias en cada grupo:\n",
      "id_experimento\n",
      "246    2489\n",
      "247    2520\n",
      "248    2542\n",
      "Name: id_dispositivo, dtype: int64\n"
     ]
    }
   ],
   "source": [
    "# Contar usuarios y usuarias en cada grupo de experimento\n",
    "usuarios_grupo = user_data.groupby('id_experimento')['id_dispositivo'].nunique()\n",
    "print(\"Usuarios y usuarias en cada grupo:\")\n",
    "print(usuarios_grupo)\n",
    "\n"
   ]
  },
  {
   "cell_type": "markdown",
   "metadata": {},
   "source": [
    "### Tenemos dos grupos de control en el test A/A, donde comprobamos nuestros mecanismos y cálculos. Observa si hay una diferencia estadísticamente significativa entre las muestras 246 y 247.\n",
    "\n",
    "Dado que tenemos dos grupos de datos independientes (muestras 246 y 247), podemos utilizar una prueba estadística como la prueba t de Student para comparar las medias de las muestras y determinar si hay una diferencia significativa entre ellas.\n",
    "\n",
    "Aquí hay un resumen del enfoque que podríamos seguir:\n",
    "\n",
    "- Hipótesis Nula (H0): No hay diferencia significativa entre las muestras 246 y 247.\n",
    "- Hipótesis Alternativa (H1): Hay una diferencia significativa entre las muestras 246 y 247."
   ]
  },
  {
   "cell_type": "code",
   "execution_count": 19,
   "metadata": {},
   "outputs": [
    {
     "name": "stdout",
     "output_type": "stream",
     "text": [
      "Valor p de la prueba de proporciones para MainScreenAppear -> OffersScreenAppear entre los grupos 0 y 1: 0.3233225048227193\n",
      "Valor p de la prueba de proporciones para MainScreenAppear -> OffersScreenAppear entre los grupos 0 y 2: 0.2531656758489338\n",
      "Valor p de la prueba de proporciones para MainScreenAppear -> OffersScreenAppear entre los grupos 1 y 2: 0.878057445632423\n",
      "Valor p de la prueba de proporciones para OffersScreenAppear -> CartScreenAppear entre los grupos 0 y 1: 0.40833564752297946\n",
      "Valor p de la prueba de proporciones para OffersScreenAppear -> CartScreenAppear entre los grupos 0 y 2: 0.2417055765490489\n",
      "Valor p de la prueba de proporciones para OffersScreenAppear -> CartScreenAppear entre los grupos 1 y 2: 0.7322398927110159\n",
      "Valor p de la prueba de proporciones para CartScreenAppear -> PaymentScreenSuccessful entre los grupos 0 y 1: 0.24329041878920876\n",
      "Valor p de la prueba de proporciones para CartScreenAppear -> PaymentScreenSuccessful entre los grupos 0 y 2: 0.24618678582248155\n",
      "Valor p de la prueba de proporciones para CartScreenAppear -> PaymentScreenSuccessful entre los grupos 1 y 2: 0.021192428666350783\n"
     ]
    }
   ],
   "source": [
    "# Definir los datos para las pruebas de proporciones\n",
    "# MainScreenAppear -> OffersScreenAppear\n",
    "count_main_to_offers = [1545, 1530, 1538]  # Número de usuarios que pasaron de MainScreenAppear a OffersScreenAppear en cada grupo\n",
    "n_main_to_offers = [2489, 2520, 2542]  # Tamaño de la muestra para MainScreenAppear en cada grupo\n",
    "\n",
    "# OffersScreenAppear -> CartScreenAppear\n",
    "count_offers_to_cart = [1270, 1240, 1239]  # Número de usuarios que pasaron de OffersScreenAppear a CartScreenAppear en cada grupo\n",
    "n_offers_to_cart = [1545, 1530, 1538]  # Tamaño de la muestra para OffersScreenAppear en cada grupo\n",
    "\n",
    "# CartScreenAppear -> PaymentScreenSuccessful\n",
    "count_cart_to_payment = [1202, 1160, 1185]  # Número de usuarios que pasaron de CartScreenAppear a PaymentScreenSuccessful en cada grupo\n",
    "n_cart_to_payment = [1270, 1240, 1239]  # Tamaño de la muestra para CartScreenAppear en cada grupo\n",
    "\n",
    "# Realizar las pruebas de proporciones por pares\n",
    "# MainScreenAppear -> OffersScreenAppear\n",
    "for i in range(len(count_main_to_offers)):\n",
    "    for j in range(i+1, len(count_main_to_offers)):\n",
    "        stat, pval = proportions_ztest([count_main_to_offers[i], count_main_to_offers[j]], \n",
    "                                        [n_main_to_offers[i], n_main_to_offers[j]])\n",
    "        print(f\"Valor p de la prueba de proporciones para MainScreenAppear -> OffersScreenAppear entre los grupos {i} y {j}: {pval}\")\n",
    "\n",
    "# OffersScreenAppear -> CartScreenAppear\n",
    "for i in range(len(count_offers_to_cart)):\n",
    "    for j in range(i+1, len(count_offers_to_cart)):\n",
    "        stat, pval = proportions_ztest([count_offers_to_cart[i], count_offers_to_cart[j]], \n",
    "                                        [n_offers_to_cart[i], n_offers_to_cart[j]])\n",
    "        print(f\"Valor p de la prueba de proporciones para OffersScreenAppear -> CartScreenAppear entre los grupos {i} y {j}: {pval}\")\n",
    "\n",
    "# CartScreenAppear -> PaymentScreenSuccessful\n",
    "for i in range(len(count_cart_to_payment)):\n",
    "    for j in range(i+1, len(count_cart_to_payment)):\n",
    "        stat, pval = proportions_ztest([count_cart_to_payment[i], count_cart_to_payment[j]], \n",
    "                                        [n_cart_to_payment[i], n_cart_to_payment[j]])\n",
    "        print(f\"Valor p de la prueba de proporciones para CartScreenAppear -> PaymentScreenSuccessful entre los grupos {i} y {j}: {pval}\")\n"
   ]
  },
  {
   "cell_type": "markdown",
   "metadata": {},
   "source": [
    "**Notas**: Basándonos en estos resultados, podemos observar que hay diferencias significativas en la proporción de usuarios que pasan de CartScreenAppear a PaymentScreenSuccessful entre el grupo 1 y el grupo 2, ya que el valor p es menor que el nivel de significancia estadística establecido. Sin embargo, no hay diferencias significativas en las otras transiciones entre los grupos."
   ]
  },
  {
   "cell_type": "markdown",
   "metadata": {},
   "source": [
    "### Selecciona el evento más popular. En cada uno de los grupos de control, encuentra la cantidad de usuarios y usuarias que realizaron esta acción. Encuentra su proporción. Comprueba si la diferencia entre los grupos es estadísticamente significativa. Repite el procedimiento para todos los demás eventos (ahorrarás tiempo si creas una función especial para esta prueba). ¿Puedes confirmar que los grupos se dividieron correctamente?"
   ]
  },
  {
   "cell_type": "code",
   "execution_count": 20,
   "metadata": {},
   "outputs": [
    {
     "name": "stdout",
     "output_type": "stream",
     "text": [
      "Evento: MainScreenAppear\n",
      "Grupo de prueba vs Grupos de control combinados:\n",
      "Usuarios en el Grupo de prueba: 2501\n",
      "Proporción de usuarios en el Grupo de prueba: 0.9839\n",
      "Valor p de la prueba de diferencia entre los grupos: 0.5067\n",
      "----------------------------------------\n",
      "Evento: OffersScreenAppear\n",
      "Grupo de prueba vs Grupos de control combinados:\n",
      "Usuarios en el Grupo de prueba: 1538\n",
      "Proporción de usuarios en el Grupo de prueba: 0.6050\n",
      "Valor p de la prueba de diferencia entre los grupos: 0.4555\n",
      "----------------------------------------\n",
      "Evento: CartScreenAppear\n",
      "Grupo de prueba vs Grupos de control combinados:\n",
      "Usuarios en el Grupo de prueba: 1239\n",
      "Proporción de usuarios en el Grupo de prueba: 0.4874\n",
      "Valor p de la prueba de diferencia entre los grupos: 0.2610\n",
      "----------------------------------------\n",
      "Evento: PaymentScreenSuccessful\n",
      "Grupo de prueba vs Grupos de control combinados:\n",
      "Usuarios en el Grupo de prueba: 1185\n",
      "Proporción de usuarios en el Grupo de prueba: 0.4662\n",
      "Valor p de la prueba de diferencia entre los grupos: 0.6578\n",
      "----------------------------------------\n"
     ]
    }
   ],
   "source": [
    "# Obtener los datos del DataFrame\n",
    "nombre_evento = user_data['nombre_evento']\n",
    "id_dispositivo = user_data['id_dispositivo']\n",
    "id_experimento = user_data['id_experimento']\n",
    "\n",
    "# Crear grupos de control combinados (246 + 247) y grupo de prueba (248)\n",
    "control_group_combined = user_data[(id_experimento == 246) | (id_experimento == 247)]\n",
    "test_group = user_data[id_experimento == 248]\n",
    "\n",
    "# Definir una función para comparar eventos con el grupo de prueba\n",
    "def compare_events_with_test(event_name, control_group_combined, test_group):\n",
    "    # Obtener el número de usuarios que realizaron el evento en el grupo de prueba\n",
    "    users_test = len(test_group[test_group['nombre_evento'] == event_name]['id_dispositivo'].unique())\n",
    "    # Obtener el número total de usuarios en el grupo de prueba\n",
    "    total_users_test = len(test_group['id_dispositivo'].unique())\n",
    "    \n",
    "    # Obtener el número de usuarios que realizaron el evento en los grupos de control combinados\n",
    "    users_control_combined = len(control_group_combined[control_group_combined['nombre_evento'] == event_name]['id_dispositivo'].unique())\n",
    "    # Obtener el número total de usuarios en los grupos de control combinados\n",
    "    total_users_control_combined = len(control_group_combined['id_dispositivo'].unique())\n",
    "    \n",
    "    # Realizar la prueba de diferencia de proporciones entre el grupo de prueba y los grupos de control combinados\n",
    "    stat_test_control_combined, pval_test_control_combined = proportions_ztest([users_test, users_control_combined], \n",
    "                                                                                 [total_users_test, total_users_control_combined])\n",
    "    \n",
    "    # Imprimir resultados\n",
    "    print(f\"Evento: {event_name}\")\n",
    "    print(f\"Grupo de prueba vs Grupos de control combinados:\")\n",
    "    print(f\"Usuarios en el Grupo de prueba: {users_test}\")\n",
    "    print(f\"Proporción de usuarios en el Grupo de prueba: {users_test / total_users_test:.4f}\")\n",
    "    print(f\"Valor p de la prueba de diferencia entre los grupos: {pval_test_control_combined:.4f}\")\n",
    "    print(\"----------------------------------------\")\n",
    "\n",
    "# Lista de eventos relevantes (excluyendo Tutorial)\n",
    "events_to_compare = ['MainScreenAppear', 'OffersScreenAppear', 'CartScreenAppear', 'PaymentScreenSuccessful']\n",
    "\n",
    "# Comparar cada evento con el grupo de prueba\n",
    "for event in events_to_compare:\n",
    "    compare_events_with_test(event, control_group_combined, test_group)\n"
   ]
  },
  {
   "cell_type": "markdown",
   "metadata": {},
   "source": [
    "**Notas** :Basándonos en los resultados de las pruebas de diferencia entre los grupos de control (246 y 247) y el grupo de prueba (248) para cada evento, así como en la comparación de las proporciones de usuarios que realizaron cada evento en cada grupo, podemos inferir que los grupos se dividieron correctamente. Las pruebas no muestran diferencias significativas entre los grupos de control, lo que sugiere que la división se realizó de manera aleatoria y que los grupos son comparables en términos de características relevantes para el estudio."
   ]
  },
  {
   "cell_type": "markdown",
   "metadata": {},
   "source": [
    "### Haz lo mismo para el grupo con fuentes alteradas. Compara los resultados con los de cada uno de los grupos de control para cada evento de forma aislada. Compara los resultados con los resultados combinados de los grupos de control. ¿Qué conclusiones puedes sacar del experimento?"
   ]
  },
  {
   "cell_type": "code",
   "execution_count": 21,
   "metadata": {},
   "outputs": [
    {
     "name": "stdout",
     "output_type": "stream",
     "text": [
      "Evento: OffersScreenAppear\n",
      "Grupo de prueba vs Grupos de control combinados:\n",
      "Usuarios en el Grupo de prueba: 1538\n",
      "Proporción de usuarios en el Grupo de prueba: 0.9541\n",
      "Valor p de la prueba de diferencia entre los grupos: 0.3096\n",
      "----------------------------------------\n",
      "Evento: CartScreenAppear\n",
      "Grupo de prueba vs Grupos de control combinados:\n",
      "Usuarios en el Grupo de prueba: 1239\n",
      "Proporción de usuarios en el Grupo de prueba: 0.7686\n",
      "Valor p de la prueba de diferencia entre los grupos: 0.7162\n",
      "----------------------------------------\n",
      "Evento: PaymentScreenSuccessful\n",
      "Grupo de prueba vs Grupos de control combinados:\n",
      "Usuarios en el Grupo de prueba: 1185\n",
      "Proporción de usuarios en el Grupo de prueba: 0.7351\n",
      "Valor p de la prueba de diferencia entre los grupos: 0.5819\n",
      "----------------------------------------\n"
     ]
    }
   ],
   "source": [
    "# Definir una función para comparar el grupo de prueba con los grupos de control para cada evento\n",
    "def compare_groups_with_control(event_name, test_group, control_group_combined):\n",
    "    # Obtener el número de usuarios que realizaron el evento en cada grupo\n",
    "    users_test = test_group[test_group['nombre_evento'] == event_name]['id_dispositivo'].nunique()\n",
    "    users_control_combined = control_group_combined[control_group_combined['nombre_evento'] == event_name]['id_dispositivo'].nunique()\n",
    "    \n",
    "    # Calcular la proporción de usuarios que realizaron el evento en cada grupo\n",
    "    prop_test = users_test / len(test_group['id_dispositivo'].unique())\n",
    "    prop_control_combined = users_control_combined / len(control_group_combined['id_dispositivo'].unique())\n",
    "    \n",
    "    # Realizar la prueba de diferencia de proporciones entre el grupo de prueba y el grupo de control combinado\n",
    "    stat_test_control_combined, pval_test_control_combined = proportions_ztest([users_test, users_control_combined], \n",
    "                                                                                [len(test_group['id_dispositivo'].unique()), len(control_group_combined['id_dispositivo'].unique())],\n",
    "                                                                                alternative='two-sided')\n",
    "    \n",
    "    # Imprimir resultados\n",
    "    print(f\"Evento: {event_name}\")\n",
    "    print(f\"Grupo de prueba vs Grupos de control combinados:\")\n",
    "    print(f\"Usuarios en el Grupo de prueba: {users_test}\")\n",
    "    print(f\"Proporción de usuarios en el Grupo de prueba: {prop_test:.4f}\")\n",
    "    print(f\"Valor p de la prueba de diferencia entre los grupos: {pval_test_control_combined:.4f}\")\n",
    "    print(\"----------------------------------------\")\n",
    "\n",
    "# Excluir el evento MainScreenAppear\n",
    "user_data_filtered = user_data[user_data['nombre_evento'] != 'MainScreenAppear']\n",
    "\n",
    "# Comparar el grupo de prueba (ExpId 248) con los grupos de control combinados (ExpId 246 y ExpId 247)\n",
    "compare_groups_with_control('OffersScreenAppear', user_data_filtered[user_data_filtered['id_experimento'] == 248], \n",
    "                            user_data_filtered[(user_data_filtered['id_experimento'] == 246) | (user_data_filtered['id_experimento'] == 247)])\n",
    "compare_groups_with_control('CartScreenAppear', user_data_filtered[user_data_filtered['id_experimento'] == 248], \n",
    "                            user_data_filtered[(user_data_filtered['id_experimento'] == 246) | (user_data_filtered['id_experimento'] == 247)])\n",
    "compare_groups_with_control('PaymentScreenSuccessful', user_data_filtered[user_data_filtered['id_experimento'] == 248], \n",
    "                            user_data_filtered[(user_data_filtered['id_experimento'] == 246) | (user_data_filtered['id_experimento'] == 247)])\n"
   ]
  },
  {
   "cell_type": "markdown",
   "metadata": {},
   "source": [
    "**Notas** : los resultados de las pruebas no muestran diferencias significativas en el comportamiento de los usuarios entre el grupo de prueba y los grupos de control combinados para los eventos OffersScreenAppear, CartScreenAppear y PaymentScreenSuccessful. Esto sugiere que los cambios introducidos en la experiencia del usuario no tuvieron un impacto significativo en las métricas analizadas en comparación con las versiones anteriores o con las variaciones existentes en el sitio web o la aplicación."
   ]
  },
  {
   "cell_type": "markdown",
   "metadata": {},
   "source": [
    "### ¿Qué nivel de significación has establecido para probar las hipótesis estadísticas mencionadas anteriormente? Calcula cuántas pruebas de hipótesis estadísticas has realizado. Con un nivel de significancia estadística de 0.1, uno de cada 10 resultados podría ser falso. ¿Cuál debería ser el nivel de significación? Si deseas cambiarlo, vuelve a ejecutar los pasos anteriores y comprueba tus conclusiones."
   ]
  },
  {
   "cell_type": "code",
   "execution_count": 22,
   "metadata": {},
   "outputs": [
    {
     "name": "stdout",
     "output_type": "stream",
     "text": [
      "Nuevo nivel de significancia ajustado: 0.008333333333333333\n"
     ]
    }
   ],
   "source": [
    "# Número total de pruebas realizadas\n",
    "total_tests = 12  # 4 eventos * 3 comparaciones (grupo de prueba vs. cada grupo de control y grupo de prueba vs. grupos de control combinados)\n",
    "\n",
    "# Nivel de significancia original\n",
    "alpha = 0.1\n",
    "\n",
    "# Nuevo nivel de significancia para controlar el error global al 10%\n",
    "alpha_adjusted = alpha / total_tests\n",
    "\n",
    "print(\"Nuevo nivel de significancia ajustado:\", alpha_adjusted)\n"
   ]
  },
  {
   "cell_type": "code",
   "execution_count": 23,
   "metadata": {},
   "outputs": [
    {
     "name": "stdout",
     "output_type": "stream",
     "text": [
      "Nuevo nivel de significancia (Holm-Bonferroni): 0.009090909090909092\n"
     ]
    }
   ],
   "source": [
    "# Lista de p-valores de las pruebas realizadas\n",
    "p_values = [0.4539, 0.8456, 0.5865, 0.2602, 0.8916, 0.4675, 0.1082, 0.7508, 0.2676, 0.2391, 0.6669, 0.6686]\n",
    "\n",
    "# Método de corrección de Holm-Bonferroni\n",
    "alpha_holm_bonferroni = alpha / (total_tests - 1)\n",
    "\n",
    "# Ajustar los p-valores\n",
    "adjusted_p_values = [p * (total_tests - i) for i, p in enumerate(sorted(p_values))]\n",
    "\n",
    "print(\"Nuevo nivel de significancia (Holm-Bonferroni):\", alpha_holm_bonferroni)\n"
   ]
  },
  {
   "cell_type": "code",
   "execution_count": 24,
   "metadata": {},
   "outputs": [
    {
     "name": "stdout",
     "output_type": "stream",
     "text": [
      "Diferencias estadísticamente significativas para cada prueba:\n",
      "Prueba 1: No\n",
      "Prueba 2: No\n",
      "Prueba 3: No\n",
      "Prueba 4: No\n",
      "Prueba 5: No\n",
      "Prueba 6: No\n",
      "Prueba 7: No\n",
      "Prueba 8: No\n",
      "Prueba 9: No\n",
      "Prueba 10: No\n",
      "Prueba 11: No\n",
      "Prueba 12: No\n"
     ]
    }
   ],
   "source": [
    "# Comparar los p-valores ajustados con el nuevo nivel de significancia (Holm-Bonferroni)\n",
    "significant_results = [p <= alpha_holm_bonferroni for p in adjusted_p_values]\n",
    "\n",
    "# Imprimir los resultados\n",
    "print(\"Diferencias estadísticamente significativas para cada prueba:\")\n",
    "for i, result in enumerate(significant_results):\n",
    "    print(f\"Prueba {i + 1}: {'Sí' if result else 'No'}\")\n"
   ]
  },
  {
   "cell_type": "markdown",
   "metadata": {},
   "source": [
    "**Notas**: Según los resultados, ninguna de las pruebas mostró diferencias estadísticamente significativas después de ajustar el nivel de significancia con el método de Holm-Bonferroni."
   ]
  },
  {
   "cell_type": "markdown",
   "metadata": {},
   "source": [
    "# Conclusiones\n",
    "\n",
    "En este proyecto, llevamos a cabo un análisis exhaustivo del embudo de conversión de usuarios en una aplicación móvil, investigando el comportamiento de los usuarios a lo largo de varias etapas, desde la aparición en la pantalla principal hasta la finalización del pago. Utilizando datos recopilados de diferentes grupos de usuarios y realizando pruebas estadísticas, pudimos identificar patrones de comportamiento significativos y realizar comparaciones entre grupos de control y grupos de prueba.\n",
    "\n",
    "Nuestro análisis reveló varios hallazgos importantes:\n",
    "\n",
    "- Embudo de conversión: Observamos que la mayoría de los usuarios que aparecen en la pantalla principal avanzan a través del embudo de conversión, con una disminución gradual en el número de usuarios en cada etapa subsiguiente.\n",
    "\n",
    "- Pruebas A/A: Al comparar dos grupos de control para validar nuestros métodos y cálculos, encontramos que no había diferencias estadísticamente significativas entre ellos, lo que indica que los grupos se dividieron correctamente y que nuestras pruebas son confiables.\n",
    "\n",
    "- Pruebas A/B: Al analizar los grupos de prueba con modificaciones en las fuentes de tráfico, no encontramos diferencias significativas en las tasas de conversión en comparación con los grupos de control. Esto sugiere que las modificaciones en las fuentes de tráfico no tuvieron un impacto significativo en el comportamiento de los usuarios en términos de conversión.\n",
    "\n",
    "- Corrección del nivel de significancia: Al ajustar el nivel de significancia para múltiples pruebas, confirmamos que no hubo diferencias estadísticamente significativas en ninguna de las pruebas realizadas.\n",
    "\n",
    "En resumen, nuestros hallazgos indican que el embudo de conversión de la aplicación móvil funciona de manera consistente, y las modificaciones en las fuentes de tráfico no parecen tener un impacto significativo en las tasas de conversión. Esto proporciona una visión valiosa para la toma de decisiones en futuras estrategias de marketing y desarrollo de productos."
   ]
  },
  {
   "cell_type": "markdown",
   "metadata": {},
   "source": [
    "<div class=\"alert alert-block alert-danger\">\n",
    "    \n",
    "# Comentarios generales\n",
    "<b>Comentario del revisor</b> <a class=\"tocSkip\"></a>\n",
    "    \n",
    "Buen trabajo, James. Nos quedan algunos elementos de índole práctica y teórica por resolver antes de poder aprobar tu proyecto. He dejado comentariosa lo largo del documento para ello.\n",
    "</div>"
   ]
  },
  {
   "cell_type": "markdown",
   "metadata": {},
   "source": [
    "<div class=\"alert alert-block alert-info\">\n",
    "<b>Hola Carlos! gracias por las correcciones realizadas, envio nueva versión con los ajustes que mencionas en los comentarios, quedo atento a tus comentarios. Saludos </b> <a class=\"tocSkip\"></a>\n",
    "</div>"
   ]
  },
  {
   "cell_type": "markdown",
   "metadata": {},
   "source": [
    "<div class=\"alert alert-block alert-danger\">\n",
    "    \n",
    "# Comentarios generales\n",
    "<b>Comentario del revisor</b> <a class=\"tocSkip\"></a>\n",
    "    \n",
    "Nos quedan solo dos elementos por corregir.\n",
    "</div>"
   ]
  },
  {
   "cell_type": "markdown",
   "metadata": {},
   "source": [
    "<div class=\"alert alert-block alert-info\">\n",
    "<b>Hola Carlos! gracias por las correcciones realizadas, envio nueva versión con los ajustes que mencionas en los comentarios #2 , quedo atento a tus comentarios. Saludos </b> <a class=\"tocSkip\"></a>\n",
    "</div>"
   ]
  },
  {
   "cell_type": "markdown",
   "metadata": {},
   "source": [
    "<div class=\"alert alert-block alert-success\">\n",
    "    \n",
    "# Comentarios generales\n",
    "<b>Comentario del revisor</b> <a class=\"tocSkip\"></a>\n",
    "    \n",
    "Todo corregido. Has aprobado un nuevo proyecto. ¡Felicitaciones!\n",
    "</div>"
   ]
  }
 ],
 "metadata": {
  "kernelspec": {
   "display_name": "Python 3 (ipykernel)",
   "language": "python",
   "name": "python3"
  },
  "language_info": {
   "codemirror_mode": {
    "name": "ipython",
    "version": 3
   },
   "file_extension": ".py",
   "mimetype": "text/x-python",
   "name": "python",
   "nbconvert_exporter": "python",
   "pygments_lexer": "ipython3",
   "version": "3.9.19"
  },
  "toc": {
   "base_numbering": 1,
   "nav_menu": {},
   "number_sections": true,
   "sideBar": true,
   "skip_h1_title": true,
   "title_cell": "Table of Contents",
   "title_sidebar": "Contents",
   "toc_cell": false,
   "toc_position": {},
   "toc_section_display": true,
   "toc_window_display": false
  }
 },
 "nbformat": 4,
 "nbformat_minor": 2
}
